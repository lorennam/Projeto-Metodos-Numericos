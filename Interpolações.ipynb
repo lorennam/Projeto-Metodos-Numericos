{
  "nbformat": 4,
  "nbformat_minor": 0,
  "metadata": {
    "colab": {
      "provenance": []
    },
    "kernelspec": {
      "name": "python3",
      "display_name": "Python 3"
    },
    "language_info": {
      "name": "python"
    }
  },
  "cells": [
    {
      "cell_type": "markdown",
      "source": [
        "## Equipe:\n",
        "####Bento Guilherme Gomes Oliveira RA: 00000852680\n",
        "####Lorenna Meneses de Almeida RA: 00000853511\n",
        "####Arthur Amaral de Souza RA: 00000852603\n",
        "####Lucas Fernandes Nunes Machado RA: 00000852836\n",
        "####Lucas Mendes Nóbrega RA: 00000852727\n",
        "\n",
        "# Projeto desenvolvido para resolver Interpolações com códigos em Python.\n",
        "\n",
        "1- Código de Interpolação Linear\n",
        "\n",
        "2- Código de Interpolação Quadrática\n",
        "\n",
        "3- Código de Interpolação de Lagrange\n",
        "\n",
        "4- Código de Interpolação Diferenças Divididas\n",
        "\n",
        "5- Código com todas Interpolações para compará-las\n",
        "\n",
        "6- Conclusão"
      ],
      "metadata": {
        "id": "QYfyCDgFLrBF"
      }
    },
    {
      "cell_type": "markdown",
      "source": [
        "# Interpolação Linear"
      ],
      "metadata": {
        "id": "dDUBzIE27qql"
      }
    },
    {
      "cell_type": "code",
      "source": [
        "x0, y0 = 1.0, 1.5\n",
        "x1, y1 = 1.5, 2.0\n",
        "\n",
        "def interpolacao_linear(x, x0, y0, x1, y1):\n",
        "    return y0 + ((y1 - y0) / (x1 - x0)) * (x - x0)\n",
        "\n",
        "x = 1.3\n",
        "resultado = interpolacao_linear(x, x0, y0, x1, y1)\n",
        "print(f\"O valor interpolado em x = {x} é P1({x}) = {resultado}, usando interpolação linear.\")"
      ],
      "metadata": {
        "colab": {
          "base_uri": "https://localhost:8080/"
        },
        "id": "lYn9vwA_HdhX",
        "outputId": "3ac3ebdc-a168-4319-f4d5-b7030f596f91"
      },
      "execution_count": 19,
      "outputs": [
        {
          "output_type": "stream",
          "name": "stdout",
          "text": [
            "O valor interpolado em x = 1.3 é P1(1.3) = 1.8, usando interpolação linear.\n"
          ]
        }
      ]
    },
    {
      "cell_type": "markdown",
      "source": [
        "# Interpolação Quadrática"
      ],
      "metadata": {
        "id": "WO9KIBh-7ula"
      }
    },
    {
      "cell_type": "code",
      "source": [
        "def interpolacao_quadratica(x0, y0, x1, y1, x2, y2, x):\n",
        "    A = [\n",
        "        [x0**2, x0, 1],\n",
        "        [x1**2, x1, 1],\n",
        "        [x2**2, x2, 1]\n",
        "    ]\n",
        "    B = [y0, y1, y2]\n",
        "    import numpy as np\n",
        "    a, b, c = np.linalg.solve(A, B)\n",
        "    return a*x**2 + b*x + c\n",
        "\n",
        "x0, y0 = 1.0, 3.0\n",
        "x1, y1 = 2.0, 6.0\n",
        "x2, y2 = 4.0, 18.0\n",
        "\n",
        "x = 3\n",
        "\n",
        "resultado = interpolacao_quadratica(x0, y0, x1, y1, x2, y2, x)\n",
        "\n",
        "print(f\"Valor interpolado em x = {x}: {resultado}, interpolação quadrática.\")"
      ],
      "metadata": {
        "colab": {
          "base_uri": "https://localhost:8080/"
        },
        "id": "D9BAucRYHuG8",
        "outputId": "dfe03a21-415e-48d8-c03a-5e898b44a9e7"
      },
      "execution_count": 18,
      "outputs": [
        {
          "output_type": "stream",
          "name": "stdout",
          "text": [
            "Valor interpolado em x = 3: 11.0, interpolação quadrática.\n"
          ]
        }
      ]
    },
    {
      "cell_type": "markdown",
      "source": [
        "# Interpolação de Lagrange"
      ],
      "metadata": {
        "id": "5fLrjr_07yoB"
      }
    },
    {
      "cell_type": "code",
      "execution_count": 17,
      "metadata": {
        "colab": {
          "base_uri": "https://localhost:8080/"
        },
        "id": "om23pXA0DJve",
        "outputId": "b6ec7dee-b9bc-47b6-de4a-9cd5c19ff24c"
      },
      "outputs": [
        {
          "output_type": "stream",
          "name": "stdout",
          "text": [
            "O valor interpolado em x = 1.5 é: 4.75, interpolação de lagrange.\n"
          ]
        }
      ],
      "source": [
        "def interpolacao_lagrange(x_pontos, y_pontos, x):\n",
        "    total = 0\n",
        "    n = len(x_pontos)\n",
        "    for i in range(n):\n",
        "        xi, yi = x_pontos[i], y_pontos[i]\n",
        "        termo = yi\n",
        "        for j in range(n):\n",
        "            if i != j:\n",
        "                termo *= (x - x_pontos[j]) / (xi - x_pontos[j])\n",
        "        total += termo\n",
        "    return total\n",
        "\n",
        "x_pontos = [0, 1, 2]\n",
        "y_pontos = [1, 3, 7]\n",
        "\n",
        "x_teste = 1.5\n",
        "y_resultado = interpolacao_lagrange(x_pontos, y_pontos, x_teste)\n",
        "\n",
        "print(f\"O valor interpolado em x = {x_teste} é: {y_resultado}, interpolação de lagrange.\")"
      ]
    },
    {
      "cell_type": "markdown",
      "source": [
        "# Interpolação de Diferenças Divididas"
      ],
      "metadata": {
        "id": "4atw66bv71yo"
      }
    },
    {
      "cell_type": "code",
      "source": [
        "import numpy as np\n",
        "import matplotlib.pyplot as plt\n",
        "\n",
        "\n",
        "def diferencas_divididas(x, y):\n",
        "    n = len(x)\n",
        "    tabela = np.zeros((n, n))\n",
        "    tabela[:, 0] = y\n",
        "\n",
        "    for j in range(1, n):\n",
        "        for i in range(n - j):\n",
        "            tabela[i][j] = (tabela[i+1][j-1] - tabela[i][j-1]) / (x[i+j] - x[i])\n",
        "\n",
        "    return tabela\n",
        "\n",
        "def polinomio_newton(x, tabela, valor):\n",
        "    n = len(x)\n",
        "    resultado = tabela[0, 0]\n",
        "    termo = 1.0\n",
        "\n",
        "    for i in range(1, n):\n",
        "        termo *= (valor - x[i-1])\n",
        "        resultado += tabela[0, i] * termo\n",
        "\n",
        "    return resultado\n",
        "\n",
        "x = np.array([1.0, 2.0, 3.0])\n",
        "y = np.array([2.0, 5.0, 10.0])\n",
        "\n",
        "tabela = diferencas_divididas(x, y)\n",
        "valor = 2.5\n",
        "\n",
        "print(f\"\\nValor interpolado em x = {valor} é igual a: {polinomio_newton(x, tabela, valor)} utilizando as diferenças divididas.\")\n",
        ""
      ],
      "metadata": {
        "colab": {
          "base_uri": "https://localhost:8080/"
        },
        "id": "qnFlDm76IXhV",
        "outputId": "39228603-bc98-4858-fce6-df1e52c5cc1f"
      },
      "execution_count": 20,
      "outputs": [
        {
          "output_type": "stream",
          "name": "stdout",
          "text": [
            "\n",
            "Valor interpolado em x = 2.5 é igual a: 7.25 utilizando as diferenças divididas.\n"
          ]
        }
      ]
    },
    {
      "cell_type": "markdown",
      "source": [
        "# Comparação entre todas interpolações com os mesmos pontos"
      ],
      "metadata": {
        "id": "_SfKSzVl77bW"
      }
    },
    {
      "cell_type": "code",
      "source": [
        "import numpy as np\n",
        "import time\n",
        "import matplotlib.pyplot as plt\n",
        "\n",
        "x_pontos = np.array([1.0, 2.0, 3.0])\n",
        "y_pontos = x_pontos**2 + 1\n",
        "x = 2.5\n",
        "\n",
        "def interpolacao_linear(x, x0, y0, x1, y1):\n",
        "    iteracoes = 1\n",
        "    resultado = y0 + ((y1 - y0) / (x1 - x0)) * (x - x0)\n",
        "    return resultado, iteracoes\n",
        "\n",
        "start = time.time()\n",
        "linear, iter_linear = interpolacao_linear(x, x_pontos[1], y_pontos[1], x_pontos[2], y_pontos[2])\n",
        "end = time.time()\n",
        "tempo_linear = end - start\n",
        "print(f\"Resultado - Linear: {linear:.2f}, Iterações: {iter_linear}, Tempo: {tempo_linear:.8f} s\")\n",
        "\n",
        "def interpolacao_quadratica(x0, y0, x1, y1, x2, y2, x):\n",
        "    iteracoes = 0\n",
        "    A = [\n",
        "        [x0**2, x0, 1],\n",
        "        [x1**2, x1, 1],\n",
        "        [x2**2, x2, 1]\n",
        "    ]\n",
        "    iteracoes += 3\n",
        "    B = [y0, y1, y2]\n",
        "    a, b, c = np.linalg.solve(A, B)\n",
        "    iteracoes += 1\n",
        "    resultado = a*x**2 + b*x + c\n",
        "    iteracoes += 3\n",
        "    return resultado, iteracoes\n",
        "\n",
        "start = time.time()\n",
        "quadratica, iter_quadratica = interpolacao_quadratica(x_pontos[0], y_pontos[0], x_pontos[1], y_pontos[1], x_pontos[2], y_pontos[2], x)\n",
        "end = time.time()\n",
        "tempo_quadratica = end - start\n",
        "print(f\"Resultado - Quadrática: {quadratica:.2f}, Iterações: {iter_quadratica}, Tempo: {tempo_quadratica:.8f} s\")\n",
        "\n",
        "def interpolacao_lagrange(x_pontos, y_pontos, x):\n",
        "    total = 0\n",
        "    n = len(x_pontos)\n",
        "    iteracoes = 0\n",
        "    for i in range(n):\n",
        "        xi, yi = x_pontos[i], y_pontos[i]\n",
        "        termo = yi\n",
        "        for j in range(n):\n",
        "            if i != j:\n",
        "                termo *= (x - x_pontos[j]) / (xi - x_pontos[j])\n",
        "                iteracoes += 1\n",
        "        total += termo\n",
        "    return total, iteracoes\n",
        "\n",
        "start = time.time()\n",
        "lagrange, iter_lagrange = interpolacao_lagrange(x_pontos, y_pontos, x)\n",
        "end = time.time()\n",
        "tempo_lagrange = end - start\n",
        "print(f\"Resultado - Lagrange: {lagrange:.2f}, Iterações: {iter_lagrange}, Tempo: {tempo_lagrange:.8f} s\")\n",
        "\n",
        "def diferencas_divididas(x, y):\n",
        "    n = len(x)\n",
        "    tabela = np.zeros((n, n))\n",
        "    tabela[:, 0] = y\n",
        "    iteracoes = 0\n",
        "    for j in range(1, n):\n",
        "        for i in range(n - j):\n",
        "            tabela[i][j] = (tabela[i+1][j-1] - tabela[i][j-1]) / (x[i+j] - x[i])\n",
        "            iteracoes += 1\n",
        "    return tabela, iteracoes\n",
        "\n",
        "def polinomio_newton(x, tabela, valor):\n",
        "    n = len(x)\n",
        "    resultado = tabela[0, 0]\n",
        "    termo = 1.0\n",
        "    for i in range(1, n):\n",
        "        termo *= (valor - x[i-1])\n",
        "        resultado += tabela[0, i] * termo\n",
        "    return resultado\n",
        "\n",
        "start = time.time()\n",
        "tabela, iter_dd = diferencas_divididas(x_pontos, y_pontos)\n",
        "newton = polinomio_newton(x_pontos, tabela, x)\n",
        "end = time.time()\n",
        "tempo_newton = end - start\n",
        "print(f\"Resultado - Diferenças Divididas: {newton:.2f}, Iterações: {iter_dd}, Tempo: {tempo_newton:.8f} s\")\n",
        "print(f\"\\n\")\n",
        "\n",
        "x_graf = np.linspace(1, 3, 100)\n",
        "y_real = x_graf**2 + 1\n",
        "y_linear = [interpolacao_linear(xi, x_pontos[1], y_pontos[1], x_pontos[2], y_pontos[2])[0] for xi in x_graf]\n",
        "y_quadratica = [interpolacao_quadratica(x_pontos[0], y_pontos[0], x_pontos[1], y_pontos[1], x_pontos[2], y_pontos[2], xi)[0] for xi in x_graf]\n",
        "y_newton = [polinomio_newton(x_pontos, tabela, xi) for xi in x_graf]\n",
        "\n",
        "y_interp = []\n",
        "\n",
        "for xi in x_graf:\n",
        "    yi, _ = interpolacao_lagrange(x_pontos, y_pontos, xi)\n",
        "    y_interp.append(yi)\n",
        "\n",
        "plt.plot(x_graf, y_real, '--', label=\"Função Real\", color='blue')\n",
        "plt.plot(x_graf, y_linear, '--', label=\"Linear\", color='green')\n",
        "plt.plot(x_graf, y_quadratica, '--', label=\"Quadrática\", color='orange')\n",
        "plt.plot(x_graf, y_interp, '--', label=\"Lagrange\", color='red')\n",
        "plt.plot(x_graf, y_newton, '--', label=\"Newton\", color='purple')\n",
        "plt.scatter(x_pontos, y_pontos, color='black', label=\"Pontos\")\n",
        "plt.legend()\n",
        "plt.xlabel(\"x\")\n",
        "plt.ylabel(\"y\")\n",
        "plt.title(\"Comparação de Interpoladores\")\n",
        "plt.show()"
      ],
      "metadata": {
        "colab": {
          "base_uri": "https://localhost:8080/",
          "height": 576
        },
        "id": "390Y4yy-LY4X",
        "outputId": "dd690765-0f90-4e9e-f8d9-24ccb521fab3"
      },
      "execution_count": 13,
      "outputs": [
        {
          "output_type": "stream",
          "name": "stdout",
          "text": [
            "Resultado - Linear: 7.50, Iterações: 1, Tempo: 0.00007677 s\n",
            "Resultado - Quadrática: 7.25, Iterações: 7, Tempo: 0.00018191 s\n",
            "Resultado - Lagrange: 7.25, Iterações: 6, Tempo: 0.00008488 s\n",
            "Resultado - Diferenças Divididas: 7.25, Iterações: 3, Tempo: 0.00014830 s\n",
            "\n",
            "\n"
          ]
        },
        {
          "output_type": "display_data",
          "data": {
            "text/plain": [
              "<Figure size 640x480 with 1 Axes>"
            ],
            "image/png": "[encoded data removed]"
          },
          "metadata": {}
        }
      ]
    },
    {
      "cell_type": "markdown",
      "source": [
        "# Conclusão:\n",
        "\n",
        "| **Método**            | **Vantagens**                                     | **Desvantagens**                                 |\n",
        "|---------------------- |---------------------------------------------------|--------------------------------------------------|\n",
        "| Linear                | Simples e rápido                                  | Pouca precisão para funções não lineares         |\n",
        "| Quadrática            | Maior precisão com poucos pontos                  | Mais complexo, risco de sobreajuste              |\n",
        "| Lagrange              | Exato para poucos pontos, simples de entender      | Alto custo computacional para muitos pontos      |\n",
        "| Diferenças Divididas  | Fácil adicionar novos pontos                      | Implementação mais complexa, pode ser instável   |\n"
      ],
      "metadata": {
        "id": "3ZmId5ov7Ohv"
      }
    }
  ]
}