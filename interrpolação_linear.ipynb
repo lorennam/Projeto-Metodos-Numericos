{
  "nbformat": 4,
  "nbformat_minor": 0,
  "metadata": {
    "colab": {
      "provenance": []
    },
    "kernelspec": {
      "name": "python3",
      "display_name": "Python 3"
    },
    "language_info": {
      "name": "python"
    }
  },
  "cells": [
    {
      "cell_type": "code",
      "execution_count": null,
      "metadata": {
        "colab": {
          "base_uri": "https://localhost:8080/"
        },
        "id": "eh-5Gib3L1yh",
        "outputId": "ca67a726-39c6-4381-9653-8bfa1d2119ae"
      },
      "outputs": [
        {
          "output_type": "stream",
          "name": "stdout",
          "text": [
            "P1(1.3) = 1.8\n"
          ]
        }
      ],
      "source": [
        "x0, y0 = 1.0, 1.5\n",
        "x1, y1 = 1.5, 2.0\n",
        "\n",
        "def interpolar(x, x0, y0, x1, y1):\n",
        "    return y0 + ((y1 - y0) / (x1 - x0)) * (x - x0)\n",
        "\n",
        "x = 1.3\n",
        "resultado = interpolar(x, x0, y0, x1, y1)\n",
        "print(f\"P1({x}) = {resultado}\")\n"
      ]
    },
    {
      "cell_type": "code",
      "source": [
        "import numpy as np\n",
        "import matplotlib.pyplot as plt\n",
        "\n",
        "\n",
        "def diferencas_divididas(x, y):\n",
        "    n = len(x)\n",
        "    tabela = np.zeros((n, n))\n",
        "    tabela[:, 0] = y\n",
        "\n",
        "    for j in range(1, n):\n",
        "        for i in range(n - j):\n",
        "            tabela[i][j] = (tabela[i+1][j-1] - tabela[i][j-1]) / (x[i+j] - x[i])\n",
        "\n",
        "    return tabela\n",
        "\n",
        "def polinomio_newton(x, tabela, valor):\n",
        "    n = len(x)\n",
        "    resultado = tabela[0, 0]\n",
        "    termo = 1.0\n",
        "\n",
        "    for i in range(1, n):\n",
        "        termo *= (valor - x[i-1])\n",
        "        resultado += tabela[0, i] * termo\n",
        "\n",
        "    return resultado\n",
        "\n",
        "x = np.array([1.0, 2.0, 3.0, 4.0])\n",
        "y = np.array([1.0, 4.0, 9.0, 16.0])\n",
        "\n",
        "tabela = diferencas_divididas(x, y)\n",
        "valor = 2.5\n",
        "\n",
        "print(f\"\\nValor interpolado em x = {valor} é igual a: {polinomio_newton(x, tabela, valor)} utilizando as diferenças divididas\")"
      ],
      "metadata": {
        "colab": {
          "base_uri": "https://localhost:8080/"
        },
        "id": "fvGSW7qbQUjN",
        "outputId": "8a85e41a-f7d0-4354-ce6d-b18abc94c224"
      },
      "execution_count": 2,
      "outputs": [
        {
          "output_type": "stream",
          "name": "stdout",
          "text": [
            "\n",
            "Valor interpolado em x = 2.5 é igual a: 6.25 utilizando as diferenças divididas\n"
          ]
        }
      ]
    },
    {
      "cell_type": "code",
      "source": [
        "def lagrange_interpol(x_pontos, y_pontos, x):\n",
        "    total = 0\n",
        "    n = len(x_pontos)\n",
        "    for i in range(n):\n",
        "        xi, yi = x_pontos[i], y_pontos[i]\n",
        "        termo = yi\n",
        "        for j in range(n):\n",
        "            if i != j:\n",
        "                termo *= (x - x_pontos[j]) / (xi - x_pontos[j])\n",
        "        total += termo\n",
        "    return total\n",
        "\n",
        "# EXEMPLO DE USO\n",
        "x_pontos = [1, 3, 4]\n",
        "y_pontos = [2, 4, 3]\n",
        "\n",
        "# Avaliar o polinômio em um ponto específico\n",
        "x_teste = 2.5\n",
        "y_resultado = lagrange_interpol(x_pontos, y_pontos, x_teste)\n",
        "\n",
        "print(f\"O valor interpolado em x = {x_teste} é: {y_resultado}\")\n",
        "\n"
      ],
      "metadata": {
        "id": "NwD-MxbSRjI0",
        "outputId": "59285dfb-c924-4cba-93d6-a2efc6c47b11",
        "colab": {
          "base_uri": "https://localhost:8080/"
        }
      },
      "execution_count": 4,
      "outputs": [
        {
          "output_type": "stream",
          "name": "stdout",
          "text": [
            "O valor interpolado em x = 2.5 é: 4.0\n"
          ]
        }
      ]
    }
  ]
}