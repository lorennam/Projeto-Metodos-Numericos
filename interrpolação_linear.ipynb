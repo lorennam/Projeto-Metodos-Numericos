{
  "nbformat": 4,
  "nbformat_minor": 0,
  "metadata": {
    "colab": {
      "provenance": []
    },
    "kernelspec": {
      "name": "python3",
      "display_name": "Python 3"
    },
    "language_info": {
      "name": "python"
    }
  },
  "cells": [
    {
      "cell_type": "code",
      "execution_count": 2,
      "metadata": {
        "colab": {
          "base_uri": "https://localhost:8080/"
        },
        "id": "eh-5Gib3L1yh",
        "outputId": "ca67a726-39c6-4381-9653-8bfa1d2119ae"
      },
      "outputs": [
        {
          "output_type": "stream",
          "name": "stdout",
          "text": [
            "P1(1.3) = 1.8\n"
          ]
        }
      ],
      "source": [
        "x0, y0 = 1.0, 1.5\n",
        "x1, y1 = 1.5, 2.0\n",
        "\n",
        "def interpolar(x, x0, y0, x1, y1):\n",
        "    return y0 + ((y1 - y0) / (x1 - x0)) * (x - x0)\n",
        "\n",
        "x = 1.3\n",
        "resultado = interpolar(x, x0, y0, x1, y1)\n",
        "print(f\"P1({x}) = {resultado}\")\n"
      ]
    }
  ]
}